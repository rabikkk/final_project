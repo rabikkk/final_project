{
 "cells": [
  {
   "cell_type": "code",
   "execution_count": 2,
   "metadata": {
    "id": "rNw3rGD3440G"
   },
   "outputs": [],
   "source": [
    "import numpy as np\n",
    "import pandas as pd\n",
    "import keras\n",
    "from keras.preprocessing.image import ImageDataGenerator,load_img\n",
    "#from keras.utils import to_categorical\n",
    "from keras.utils.np_utils import to_categorical\n",
    "from sklearn.model_selection import train_test_split\n",
    "import matplotlib.pyplot as plt\n",
    "import random\n",
    "import os"
   ]
  },
  {
   "cell_type": "markdown",
   "metadata": {
    "id": "3ZXxD-ir7_Lv"
   },
   "source": [
    "# Adding Old Train_set and Test_set\n"
   ]
  },
  {
   "cell_type": "code",
   "execution_count": 4,
   "metadata": {
    "colab": {
     "base_uri": "https://localhost:8080/"
    },
    "executionInfo": {
     "elapsed": 8422,
     "status": "ok",
     "timestamp": 1623332129847,
     "user": {
      "displayName": "Rabia Doğan",
      "photoUrl": "",
      "userId": "05617015117333013589"
     },
     "user_tz": -180
    },
    "id": "-NqbsMZD5RUC",
    "outputId": "d23196dc-e528-4c15-d9f3-e74534002587"
   },
   "outputs": [
    {
     "name": "stdout",
     "output_type": "stream",
     "text": [
      "35033\n",
      "(35033, 32, 32, 1)\n",
      "(35033, 1)\n"
     ]
    }
   ],
   "source": [
    "import cv2\n",
    "import os\n",
    "import pandas as pd   \n",
    "from PIL import Image,ImageOps\n",
    "from numpy import asarray  \n",
    "import numpy as np\n",
    "  \n",
    "#src='/home/rabikkk/Desktop/final_project/data2/train/'\n",
    "#src1='/home/rabikkk/Desktop/final_project/data_new/train/'\n",
    "src='/home/rabikkk/Desktop/final_project/last_dataset/TRAIN/'\n",
    "filenames_train=os.listdir(src)\n",
    "\n",
    "categories_train=[]\n",
    "image_train=[]\n",
    "print(len(filenames_train))\n",
    "for f_name in filenames_train:\n",
    "    image=Image.open(src+f_name).convert('RGB')\n",
    "    image=ImageOps.grayscale(image)\n",
    "    #image=cv2.imread(src+f_name)\n",
    "    #image=cv2.cvtColor(image, cv2.COLOR_BGR2GRAY)\n",
    "    numpydata = asarray(image)\n",
    "    image_train.append(numpydata)\n",
    "    #print(len(image_train))\n",
    "    category=f_name.split('_')[0]\n",
    "    if category=='close':\n",
    "      categories_train.append(0)\n",
    "    elif category=='index': \n",
    "      categories_train.append(1)\n",
    "    elif category=='last': \n",
    "      categories_train.append(2)\n",
    "    else:\n",
    "      categories_train.append(3)\n",
    "\n",
    "df=pd.DataFrame({\n",
    "    'filename':filenames_train,\n",
    "    'category':categories_train\n",
    "})\n",
    "\n",
    "image_train=np.asarray(image_train)\n",
    "image_train = image_train.reshape((image_train.shape[0],32, 32,1))\n",
    "image_train = image_train.astype(\"float32\") / 255.0\n",
    "categories_train=np.asarray(categories_train)\n",
    "categories_train=categories_train.reshape(len(filenames_train),1)\n",
    "\n",
    "print(image_train.shape)\n",
    "print(categories_train.shape)\n",
    "\n",
    "\n",
    "#print(categories_train)\n"
   ]
  },
  {
   "cell_type": "markdown",
   "metadata": {
    "id": "LHEUT4Tl74H-"
   },
   "source": [
    "Adding Test_set"
   ]
  },
  {
   "cell_type": "code",
   "execution_count": 5,
   "metadata": {
    "colab": {
     "base_uri": "https://localhost:8080/"
    },
    "executionInfo": {
     "elapsed": 2457,
     "status": "ok",
     "timestamp": 1623332132298,
     "user": {
      "displayName": "Rabia Doğan",
      "photoUrl": "",
      "userId": "05617015117333013589"
     },
     "user_tz": -180
    },
    "id": "pbNZaIT75VPj",
    "outputId": "264b80ba-1abe-4f05-a1b9-39ff7b9ffec9"
   },
   "outputs": [
    {
     "name": "stdout",
     "output_type": "stream",
     "text": [
      "8800\n",
      "(8800, 32, 32, 1)\n",
      "(8800, 1)\n"
     ]
    }
   ],
   "source": [
    "import cv2\n",
    "import os\n",
    "import pandas as pd   \n",
    "from numpy import asarray  \n",
    "import numpy as np\n",
    "# Importing Image and ImageOps module from PIL package\n",
    "from PIL import Image, ImageOps\n",
    "\n",
    "#src='/home/rabikkk/Desktop/final_project/data2/test/'\n",
    "#src1='/home/rabikkk/Desktop/final_project/data_new/test/'\n",
    "src='/home/rabikkk/Desktop/final_project/last_dataset/test/'\n",
    "filenames_test=os.listdir(src)\n",
    "\n",
    "categories_test=[]\n",
    "image_test=[]\n",
    "print(len(filenames_test))\n",
    "for f_name in filenames_test:\n",
    "    image=Image.open(src+f_name).convert('RGB')\n",
    "    image=ImageOps.grayscale(image)\n",
    "     #image=cv2.imread(src+f_name)\n",
    "   #image=cv2.cvtColor(image, cv2.COLOR_BGR2GRAY)\n",
    "    numpydata = asarray(image)\n",
    "    image_test.append(numpydata)\n",
    "   # print(len(image_test))\n",
    "    category=f_name.split('_')[0]\n",
    "    if category=='close':\n",
    "      categories_test.append(0)\n",
    "    elif category=='index': \n",
    "      categories_test.append(1)\n",
    "    elif category=='last': \n",
    "      categories_test.append(2)\n",
    "    else:\n",
    "      categories_test.append(3)\n",
    "\n",
    "\n",
    "df=pd.DataFrame({\n",
    "    'filename':filenames_test,\n",
    "    'category':categories_test\n",
    "})\n",
    "image_test=np.asarray(image_test)\n",
    "image_test = image_test.reshape((image_test.shape[0], 32, 32,1))\n",
    "image_test = image_test.astype(\"float32\") / 255.0\n",
    "#image_test =image_test.reshape(len(image_test),(32,32))\n",
    "#image_test= np.ndarray(shape=(2050, 32, 32, 1))\n",
    "#image_test=image_test/255.0\n",
    "#image_test=image_test.reshape(2008,32,32)\n",
    "categories_test=np.asarray(categories_test)\n",
    "categories_test=categories_test.reshape(len(filenames_test),1)\n",
    "\n",
    "print(image_test.shape)\n",
    "print(categories_test.shape)"
   ]
  },
  {
   "cell_type": "markdown",
   "metadata": {
    "id": "-Zt2wm8JFyKY"
   },
   "source": [
    "# MODEL1"
   ]
  },
  {
   "cell_type": "code",
   "execution_count": 6,
   "metadata": {
    "colab": {
     "base_uri": "https://localhost:8080/"
    },
    "executionInfo": {
     "elapsed": 20,
     "status": "ok",
     "timestamp": 1623332132300,
     "user": {
      "displayName": "Rabia Doğan",
      "photoUrl": "",
      "userId": "05617015117333013589"
     },
     "user_tz": -180
    },
    "id": "9-ddmfyy53AL",
    "outputId": "2969f13e-d8b4-49be-ae7c-da7a087979e9"
   },
   "outputs": [
    {
     "name": "stdout",
     "output_type": "stream",
     "text": [
      "Model: \"Static_Gesture_Model\"\n",
      "_________________________________________________________________\n",
      "Layer (type)                 Output Shape              Param #   \n",
      "=================================================================\n",
      "conv2d (Conv2D)              (None, 28, 28, 32)        832       \n",
      "_________________________________________________________________\n",
      "max_pooling2d (MaxPooling2D) (None, 14, 14, 32)        0         \n",
      "_________________________________________________________________\n",
      "conv2d_1 (Conv2D)            (None, 10, 10, 48)        38448     \n",
      "_________________________________________________________________\n",
      "max_pooling2d_1 (MaxPooling2 (None, 5, 5, 48)          0         \n",
      "_________________________________________________________________\n",
      "flatten (Flatten)            (None, 1200)              0         \n",
      "_________________________________________________________________\n",
      "dense (Dense)                (None, 256)               307456    \n",
      "_________________________________________________________________\n",
      "dense_1 (Dense)              (None, 84)                21588     \n",
      "_________________________________________________________________\n",
      "dense_2 (Dense)              (None, 10)                850       \n",
      "_________________________________________________________________\n",
      "dense_3 (Dense)              (None, 4)                 44        \n",
      "=================================================================\n",
      "Total params: 369,218\n",
      "Trainable params: 369,218\n",
      "Non-trainable params: 0\n",
      "_________________________________________________________________\n"
     ]
    }
   ],
   "source": [
    "import keras \n",
    "from keras.models import Sequential\n",
    "from keras.layers import Conv2D\n",
    "from keras.layers import MaxPooling2D,AveragePooling2D\n",
    "from keras.layers import Flatten\n",
    "from keras.layers import Dense\n",
    "from keras.layers import Dropout,LeakyReLU\n",
    "from tensorflow.keras.utils import plot_model\n",
    "#Instantieate an empty model\n",
    "model = Sequential(name=\"Static_Gesture_Model\")\n",
    "\n",
    "#C1 Convolutional Layer\n",
    "model.add(Conv2D(filters=32, kernel_size=(5,5), activation='relu', input_shape=(32, 32,1)))\n",
    "#S2 Pooling Layer\n",
    "model.add(MaxPooling2D(strides=2))\n",
    "#C3 Convolutional Layer\n",
    "model.add(Conv2D(filters=48, kernel_size=(5,5), padding='valid', activation='relu'))\n",
    "#S4 Pooling Layer\n",
    "model.add(MaxPooling2D(strides=2))\n",
    "#Flatten the CNN output so that we can connect it with fully connected layers\n",
    "model.add(Flatten())\n",
    "#Fully Connected Layer\n",
    "model.add(Dense(256, activation='tanh'))\n",
    "#model.add(LeakyReLU(alpha=0.1))\n",
    "#Fully Connected Layer\n",
    "model.add(Dense(84, activation='tanh'))\n",
    "#Fully Connected Layer\n",
    "model.add(Dense(10, activation='tanh'))\n",
    "\n",
    "#model.add(Dropout(0.50))\n",
    "#Output Layer with Softmax Activation\n",
    "model.add(Dense(4, activation='softmax'))\n",
    "model.summary()\n",
    "\n",
    "#plot_model(model, \"ff.png\", show_layer_names=Galse, show_shapes=True)\n",
    "#plot_model(model, to_file='model.png', show_shapes=True, rankdir='TB', expand_nested=True)"
   ]
  },
  {
   "cell_type": "markdown",
   "metadata": {
    "id": "IQLw3qvjIu22"
   },
   "source": [
    "# Learning"
   ]
  },
  {
   "cell_type": "code",
   "execution_count": null,
   "metadata": {
    "colab": {
     "base_uri": "https://localhost:8080/"
    },
    "executionInfo": {
     "elapsed": 803240,
     "status": "ok",
     "timestamp": 1623332945456,
     "user": {
      "displayName": "Rabia Doğan",
      "photoUrl": "",
      "userId": "05617015117333013589"
     },
     "user_tz": -180
    },
    "id": "2ab5oGSc7OZ7",
    "outputId": "b727c6db-406f-4fb6-efd3-65cbbbd17519"
   },
   "outputs": [
    {
     "name": "stdout",
     "output_type": "stream",
     "text": [
      "The length of list is:  35033\n",
      "The length of list is:  8800\n",
      "Epoch 1/100\n"
     ]
    },
    {
     "name": "stderr",
     "output_type": "stream",
     "text": [
      "/home/rabikkk/.local/lib/python3.9/site-packages/tensorflow/python/keras/backend.py:4929: UserWarning: \"`sparse_categorical_crossentropy` received `from_logits=True`, but the `output` argument was produced by a sigmoid or softmax activation and thus does not represent logits. Was this intended?\"\n",
      "  warnings.warn(\n"
     ]
    },
    {
     "name": "stdout",
     "output_type": "stream",
     "text": [
      "1095/1095 [==============================] - 33s 22ms/step - loss: 1.2514 - accuracy: 0.4567 - val_loss: 1.0539 - val_accuracy: 0.5744\n",
      "\n",
      "Epoch 00001: val_loss improved from inf to 1.05394, saving model to /home/rabikkk/Desktop/final_project/learning/deneme.hdf5\n",
      "Epoch 2/100\n",
      "1095/1095 [==============================] - 24s 22ms/step - loss: 0.8809 - accuracy: 0.6553 - val_loss: 0.9563 - val_accuracy: 0.6316\n",
      "\n",
      "Epoch 00002: val_loss improved from 1.05394 to 0.95626, saving model to /home/rabikkk/Desktop/final_project/learning/deneme.hdf5\n",
      "Epoch 3/100\n",
      "1095/1095 [==============================] - 23s 21ms/step - loss: 0.6920 - accuracy: 0.7425 - val_loss: 0.8451 - val_accuracy: 0.6547\n",
      "\n",
      "Epoch 00003: val_loss improved from 0.95626 to 0.84514, saving model to /home/rabikkk/Desktop/final_project/learning/deneme.hdf5\n",
      "Epoch 4/100\n",
      "1095/1095 [==============================] - 23s 21ms/step - loss: 0.5852 - accuracy: 0.7873 - val_loss: 0.7998 - val_accuracy: 0.6747\n",
      "\n",
      "Epoch 00004: val_loss improved from 0.84514 to 0.79976, saving model to /home/rabikkk/Desktop/final_project/learning/deneme.hdf5\n",
      "Epoch 5/100\n",
      "1095/1095 [==============================] - 23s 21ms/step - loss: 0.5105 - accuracy: 0.8198 - val_loss: 0.8607 - val_accuracy: 0.6701\n",
      "\n",
      "Epoch 00005: val_loss did not improve from 0.79976\n",
      "Epoch 6/100\n",
      " 463/1095 [===========>..................] - ETA: 12s - loss: 0.4538 - accuracy: 0.8493"
     ]
    }
   ],
   "source": [
    "import numpy as np\n",
    "import keras\n",
    "from keras.callbacks import ModelCheckpoint\n",
    "from keras.callbacks import EarlyStopping\n",
    "import tensorflow as tf\n",
    "print(\"The length of list is: \", len(image_train))\n",
    "print(\"The length of list is: \", len(image_test))\n",
    "\n",
    "# early stopping\n",
    "early_stop = EarlyStopping(patience=50, monitor='val_loss')\n",
    "opt = keras.optimizers.Adam(learning_rate=0.000025)\n",
    "model.compile(optimizer=opt, #'adam'\n",
    "              loss=tf.keras.losses.SparseCategoricalCrossentropy(from_logits=True),\n",
    "              metrics=['accuracy'])\n",
    "#history = model.fit(image_train, categories_train, epochs=10)\n",
    "\n",
    "model_name = \"deneme\"\n",
    "filepath='/home/rabikkk/Desktop/final_project/learning/' + model_name + '.hdf5'\n",
    "checkpoint = ModelCheckpoint(filepath, monitor='val_loss', verbose=1, save_best_only=True, mode='auto')\n",
    "logpath = '/home/rabikkk/Desktop/final_project/learning' + model_name + '.log'\n",
    "csv_logger = keras.callbacks.CSVLogger(logpath)\n",
    "callbacks_list = [checkpoint,csv_logger]\n",
    "history = model.fit(image_train, categories_train, epochs=100,validation_data=(image_test, categories_test), callbacks=[callbacks_list,early_stop])#callbacks=[callbacks_list,early_stop]"
   ]
  },
  {
   "cell_type": "code",
   "execution_count": 70,
   "metadata": {
    "colab": {
     "base_uri": "https://localhost:8080/",
     "height": 334
    },
    "executionInfo": {
     "elapsed": 1547,
     "status": "ok",
     "timestamp": 1623332988666,
     "user": {
      "displayName": "Rabia Doğan",
      "photoUrl": "",
      "userId": "05617015117333013589"
     },
     "user_tz": -180
    },
    "id": "QDQCRPDkFtPs",
    "outputId": "46f7ab28-4427-4d1d-e860-f1d3514b251f"
   },
   "outputs": [
    {
     "name": "stdout",
     "output_type": "stream",
     "text": [
      "275/275 - 1s - loss: 0.6379 - accuracy: 0.8584\n",
      "0.6378623843193054\n",
      "0.8584091067314148\n"
     ]
    },
    {
     "data": {
      "image/png": "[encoded data removed]",
      "text/plain": [
       "<Figure size 432x288 with 1 Axes>"
      ]
     },
     "metadata": {
      "needs_background": "light"
     },
     "output_type": "display_data"
    }
   ],
   "source": [
    "import matplotlib.pyplot as plt\n",
    "plt.plot(history.history['accuracy'], label='accuracy')\n",
    "plt.plot(history.history['val_accuracy'], label = 'val_accuracy')\n",
    "from keras.utils.vis_utils import plot_model\n",
    "plt.xlabel('Epoch')\n",
    "plt.ylabel('Accuracy')\n",
    "plt.ylim([0.5, 1])\n",
    "plt.legend(loc='lower right')\n",
    "\n",
    "test_loss, test_acc = model.evaluate(image_test, categories_test, verbose=2)\n",
    "print(test_loss)\n",
    "print(test_acc)\n",
    "#plot_model(model, to_file='model_plot.png', show_shapes=True, show_layer_names=True)"
   ]
  },
  {
   "cell_type": "code",
   "execution_count": 71,
   "metadata": {},
   "outputs": [
    {
     "data": {
      "image/png": "[encoded data removed]",
      "text/plain": [
       "<Figure size 432x288 with 1 Axes>"
      ]
     },
     "metadata": {
      "needs_background": "light"
     },
     "output_type": "display_data"
    }
   ],
   "source": [
    "# example of plotting learning curves\n",
    "from sklearn.datasets import make_classification\n",
    "from tensorflow.keras import Sequential\n",
    "from tensorflow.keras.layers import Dense\n",
    "from tensorflow.keras.optimizers import SGD\n",
    "from matplotlib import pyplot\n",
    "\n",
    "# plot learning curves\n",
    "pyplot.title('Learning Curves')\n",
    "pyplot.xlabel('Epoch')\n",
    "pyplot.ylabel('Cross Entropy')\n",
    "pyplot.plot(history.history['loss'], label='train')\n",
    "pyplot.plot(history.history['val_loss'], label='val')\n",
    "pyplot.legend()\n",
    "pyplot.show()"
   ]
  },
  {
   "cell_type": "code",
   "execution_count": 74,
   "metadata": {},
   "outputs": [
    {
     "name": "stdout",
     "output_type": "stream",
     "text": [
      "(201, 32, 32, 1)\n",
      "[1 1 1 1 1 1 1 1 1 0 1 1 1 1 1 1 1 1 1 1 2 1 1 1 0 1 1 1 1 1 1 1 1 1 1 0 1\n",
      " 0 1 1 1 1 1 1 1 1 1 1 1 1 1 1 1 1 1 1 1 1 0 1 1 0 1 1 1 1 1 0 1 1 1 1 1 2\n",
      " 2 2 1 1 1 1 1 1 1 1 0 1 1 1 1 1 1 1 1 1 1 1 1 1 1 0 0 1 2 1 1 1 1 1 1 1 1\n",
      " 1 1 1 1 1 0 1 1 1 1 0 1 1 1 1 1 0 1 1 2 1 1 1 1 1 1 1 1 1 2 1 1 2 1 1 1 1\n",
      " 1 1 1 1 1 1 1 0 1 1 1 1 1 1 1 1 1 1 0 1 1 1 1 1 1 1 1 1 1 1 1 1 1 1 2 1 1\n",
      " 1 1 1 1 1 1 1 1 2 1 1 1 1 0 1 1]\n",
      "Result:87.064677\n"
     ]
    }
   ],
   "source": [
    "import keras\n",
    "import tensorflow as tf\n",
    "from keras.models import load_model\n",
    "import os\n",
    "import cv2\n",
    "from PIL import Image,ImageOps\n",
    "import numpy as np\n",
    "import pandas as pd   \n",
    "categories_valtest=[]\n",
    "model = tf.keras.models.load_model('/home/rabikkk/Desktop/final_project/learning/deneme.hdf5')\n",
    "images = []\n",
    "# Test edeceğin datanı preprocess et trainingde verdiğin input haline getir.\n",
    "main_folder ='/home/rabikkk/Desktop/final_project/last_dataset/testing/index2/'\n",
    "for f_name in sorted(os.listdir(main_folder)):\n",
    "    #image = Image.open(main_folder + f_name)\n",
    "    image = Image.open(main_folder + f_name)\n",
    "    image=ImageOps.grayscale(image)\n",
    "    #image_array = asarray(image)\n",
    "    image_array=np.array(image)\n",
    "    images.append(image_array)\n",
    "    category=f_name.split('_')[0]\n",
    "    if category=='close':\n",
    "      categories_valtest.append(0)\n",
    "    elif category=='index': \n",
    "      categories_valtest.append(1)\n",
    "    elif category=='last': \n",
    "      categories_valtest.append(2)\n",
    "    else:\n",
    "      categories_valtest.append(3)\n",
    "\n",
    "df=pd.DataFrame({\n",
    "    'filename':images,\n",
    "    'category':categories_valtest\n",
    "})\n",
    "categories_valtest=np.asarray(categories_valtest)\n",
    "categories_valtest=categories_valtest.reshape(len(images),1)\n",
    "images=np.asarray(images)\n",
    "images = images.reshape((images.shape[0],32, 32,1))\n",
    "images = images.astype(\"float32\") / 255.0\n",
    "print(images.shape)\n",
    "yhat = model.predict([images])\n",
    "#print('Predicted: %.3f' % yhat[0])\n",
    "predictions = model.predict_classes(images)\n",
    "\n",
    "print(predictions)\n",
    "# summarize the first 5 cases\n",
    "count=0;\n",
    "for i in range(len(images)):\n",
    "    if predictions[i]==categories_valtest[i]:\n",
    "        count+=1\n",
    "    #print('%s%d=> %d (expected %d)' % (f_name,i,predictions[i], categories_valtest[i])) \n",
    "print('Result:%f' % ((count/len(categories_valtest))*100))   \n",
    "   "
   ]
  },
  {
   "cell_type": "code",
   "execution_count": null,
   "metadata": {},
   "outputs": [],
   "source": []
  },
  {
   "cell_type": "code",
   "execution_count": 194,
   "metadata": {},
   "outputs": [
    {
     "name": "stdout",
     "output_type": "stream",
     "text": [
      "(298, 32, 32, 1)\n",
      "[1 1 1 1 1 1 1 1 1 0 1 1 1 1 1 1 1 1 1 1 2 1 1 1 1 1 1 1 1 1 1 1 1 1 1 1 1\n",
      " 1 1 1 1 1 1 1 1 1 1 1 1 2 1 1 1 1 1 1 1 1 1 1 1 1 1 1 1 0 1 1 1 1 1 1 1 1\n",
      " 1 1 1 1 1 1 1 1 1 1 1 1 1 1 1 1 1 1 1 1 1 1 1 1 1 1 1 1 1 1 1 1 1 1 1 1 1\n",
      " 1 1 1 0 1 1 1 1 1 1 1 1 1 1 1 1 1 1 1 1 1 1 1 1 1 1 1 1 1 1 1 0 1 1 1 1 1\n",
      " 1 1 1 1 2 1 2 1 1 1 1 1 1 1 1 1 1 1 1 1 1 1 1 1 1 1 1 1 1 1 1 1 0 0 1 1 1\n",
      " 1 1 1 1 1 1 1 1 1 1 1 1 1 1 1 1 1 2 1 1 1 1 1 1 1 1 1 1 1 1 2 1 1 1 1 1 1\n",
      " 1 1 1 1 2 1 1 1 1 1 1 1 1 1 1 1 1 1 1 1 1 1 1 1 1 1 1 1 1 1 1 1 1 1 1 1 1\n",
      " 1 1 1 1 1 1 1 1 1 1 1 1 1 1 2 1 1 1 1 1 1 1 1 1 1 1 1 1 1 1 1 2 1 1 1 0 1\n",
      " 1 1]\n"
     ]
    }
   ],
   "source": [
    "import keras\n",
    "import tensorflow as tf\n",
    "from keras.models import load_model\n",
    "import os\n",
    "import cv2\n",
    "\n",
    "model = tf.keras.models.load_model('/home/rabikkk/Desktop/final_project/learning/deneme.hdf5')\n",
    "images = []\n",
    "# Test edeceğin datanı preprocess et trainingde verdiğin input haline getir.\n",
    "main_folder ='/home/rabikkk/Desktop/final_project/last_dataset/testset/index2/'\n",
    "for f_name in sorted(os.listdir(main_folder)):\n",
    "    #image = Image.open(main_folder + f_name)\n",
    "    image = Image.open(main_folder + f_name)\n",
    "    image=ImageOps.grayscale(image)\n",
    "    #image_array = asarray(image)\n",
    "    image_array=np.array(image)\n",
    "    images.append(image_array)\n",
    "images = np.asarray(images)\n",
    "images = images.reshape((images.shape[0], 32, 32,1))\n",
    "images = images.astype(\"float32\") / 255.0\n",
    "print(images.shape)\n",
    "yhat = model.predict([images])\n",
    "#print('Predicted: %.3f' % yhat[0])\n",
    "predictions = model.predict_classes(images)\n",
    "\n",
    "print(predicted)\n",
    "# summarize the first 5 cases\n",
    "for i in range(len(y[i])):\n",
    "    print('%s => %d (expected %d)' % (images[i].tolist(), predictions[i], y[i]))    \n",
    "\n",
    "#error = categorical_crossentropy(ACTUAL CLASS, PREDICTED CLASS)"
   ]
  },
  {
   "cell_type": "code",
   "execution_count": null,
   "metadata": {},
   "outputs": [],
   "source": []
  },
  {
   "cell_type": "markdown",
   "metadata": {
    "id": "rYb9lVAlNR2W"
   },
   "source": [
    "# New Test_set and Train_set"
   ]
  },
  {
   "cell_type": "code",
   "execution_count": 90,
   "metadata": {
    "id": "LsRovWXsDAqy"
   },
   "outputs": [
    {
     "name": "stdout",
     "output_type": "stream",
     "text": [
      "58\n"
     ]
    },
    {
     "ename": "ValueError",
     "evalue": "cannot reshape array of size 2050 into shape (58,1)",
     "output_type": "error",
     "traceback": [
      "\u001b[0;31m---------------------------------------------------------------------------\u001b[0m",
      "\u001b[0;31mValueError\u001b[0m                                Traceback (most recent call last)",
      "\u001b[0;32m<ipython-input-90-4c326c19bb64>\u001b[0m in \u001b[0;36m<module>\u001b[0;34m\u001b[0m\n\u001b[1;32m     36\u001b[0m \u001b[0;31m#image_test=image_test.reshape(2008,32,32)\u001b[0m\u001b[0;34m\u001b[0m\u001b[0;34m\u001b[0m\u001b[0;34m\u001b[0m\u001b[0m\n\u001b[1;32m     37\u001b[0m \u001b[0mcategoriesnew_test\u001b[0m\u001b[0;34m=\u001b[0m\u001b[0mnp\u001b[0m\u001b[0;34m.\u001b[0m\u001b[0masarray\u001b[0m\u001b[0;34m(\u001b[0m\u001b[0mcategoriesnew_test\u001b[0m\u001b[0;34m)\u001b[0m\u001b[0;34m\u001b[0m\u001b[0;34m\u001b[0m\u001b[0m\n\u001b[0;32m---> 38\u001b[0;31m \u001b[0mcategoriesnew_test\u001b[0m\u001b[0;34m=\u001b[0m\u001b[0mcategories_test\u001b[0m\u001b[0;34m.\u001b[0m\u001b[0mreshape\u001b[0m\u001b[0;34m(\u001b[0m\u001b[0mlen\u001b[0m\u001b[0;34m(\u001b[0m\u001b[0mfilenames_test\u001b[0m\u001b[0;34m)\u001b[0m\u001b[0;34m,\u001b[0m\u001b[0;36m1\u001b[0m\u001b[0;34m)\u001b[0m\u001b[0;34m\u001b[0m\u001b[0;34m\u001b[0m\u001b[0m\n\u001b[0m\u001b[1;32m     39\u001b[0m \u001b[0;34m\u001b[0m\u001b[0m\n\u001b[1;32m     40\u001b[0m \u001b[0mprint\u001b[0m\u001b[0;34m(\u001b[0m\u001b[0mimagenew_test\u001b[0m\u001b[0;34m.\u001b[0m\u001b[0mshape\u001b[0m\u001b[0;34m)\u001b[0m\u001b[0;34m\u001b[0m\u001b[0;34m\u001b[0m\u001b[0m\n",
      "\u001b[0;31mValueError\u001b[0m: cannot reshape array of size 2050 into shape (58,1)"
     ]
    }
   ],
   "source": [
    "import cv2\n",
    "import os\n",
    "import pandas as pd   \n",
    "from PIL import Image\n",
    "from numpy import asarray  \n",
    "import numpy as np\n",
    "\n",
    "src='/home/rabikkk/Desktop/final_project/data2/test_Set_image/open1/'\n",
    "filenames_test=os.listdir(src)\n",
    "\n",
    "categoriesnew_test=[]\n",
    "imagenew_test=[]\n",
    "print(len(filenames_test))\n",
    "for f_name in filenames_test:\n",
    "    image=Image.open(src+f_name)\n",
    "    numpydata = asarray(image)\n",
    "    imagenew_test.append(numpydata)\n",
    "    #print(len(image_test))\n",
    "    category=f_name.split('_')[0]\n",
    "    if category=='close':\n",
    "      categoriesnew_test.append(0)\n",
    "    elif category=='index': \n",
    "      categoriesnew_test.append(1)\n",
    "    elif category=='last': \n",
    "      categoriesnew_test.append(2)\n",
    "    else:\n",
    "      categoriesnew_test.append(3)\n",
    "\n",
    "df=pd.DataFrame({\n",
    "    'filename':filenames_test,\n",
    "    'category':categoriesnew_test\n",
    "})\n",
    "\n",
    "imagenew_test=np.asarray(imagenew_test)\n",
    "imagenew_test=imagenew_test/255.0\n",
    "#image_test=image_test.reshape(2008,32,32)\n",
    "categoriesnew_test=np.asarray(categoriesnew_test)\n",
    "categoriesnew_test=categories_test.reshape(len(filenames_test),1)\n",
    "\n",
    "print(imagenew_test.shape)\n",
    "print(categoriesnew_test.shape)"
   ]
  },
  {
   "cell_type": "code",
   "execution_count": null,
   "metadata": {
    "id": "k9hk1HuoDcxL"
   },
   "outputs": [],
   "source": [
    "import cv2\n",
    "import os\n",
    "import pandas as pd   \n",
    "from PIL import Image\n",
    "from numpy import asarray  \n",
    "import numpy as np\n",
    "  \n",
    "src='/content/drive/MyDrive/final_project/trainnew/'\n",
    "filenames_train=os.listdir(src)\n",
    "\n",
    "categoriesnew_train=[]\n",
    "imagenew_train=[]\n",
    "print(len(filenames_train))\n",
    "for f_name in filenames_train:\n",
    "    image=Image.open(src+f_name)\n",
    "    numpydata = asarray(image)\n",
    "    imagenew_train.append(numpydata)\n",
    "    #print(len(image_train))\n",
    "    category=f_name.split('_')[0]\n",
    "    if category=='close':\n",
    "      categoriesnew_train.append(0)\n",
    "    elif category=='index': \n",
    "      categoriesnew_train.append(1)\n",
    "    elif category=='last': \n",
    "      categoriesnew_train.append(2)\n",
    "    else:\n",
    "      categoriesnew_train.append(3)\n",
    "\n",
    "df=pd.DataFrame({\n",
    "    'filename':filenames_train,\n",
    "    'category':categories_train\n",
    "})\n",
    "\n",
    "imagenew_train=np.asarray(imagenew_train)\n",
    "imagenew_train=image_train/255.0\n",
    "categoriesnew_train=np.asarray(categoriesnew_train)\n",
    "categoriesnew_train=categories_train.reshape(len(filenames_train),1)\n",
    "\n",
    "print(imagenew_train.shape)\n",
    "print(categoriesnew_train.shape)\n",
    "\n",
    "\n",
    "print(categoriesnew_train)"
   ]
  },
  {
   "cell_type": "markdown",
   "metadata": {
    "id": "DFh7XCVaNZNj"
   },
   "source": [
    "# New_Learning"
   ]
  },
  {
   "cell_type": "code",
   "execution_count": null,
   "metadata": {
    "id": "Gnmy99TNCaCd"
   },
   "outputs": [],
   "source": [
    "from keras.models import load_model\n",
    "model = load_model(filepath)\n",
    "filepath='/content/drive/My Drive/final_project/learn/' + model_name + '.hdf5'\n",
    "checkpoint = ModelCheckpoint(filepath, monitor='val_loss', verbose=1, save_best_only=True, mode='auto')\n",
    "logpath = '/content/drive/My Drive/final_project/learn/' + model_name + '.log'\n",
    "csv_logger = keras.callbacks.CSVLogger(logpath)\n",
    "callbacks_list = [checkpoint,csv_logger]\n",
    "history = model.fit(imagenew_train, categoriesnew_train, epochs=50,validation_data=(imagenew_test, categoriesnew_test), callbacks=[callbacks_list])#callbacks=[callbacks_list,early_stop]"
   ]
  },
  {
   "cell_type": "markdown",
   "metadata": {
    "id": "BbK9PlGaNeRG"
   },
   "source": [
    "#Testing"
   ]
  },
  {
   "cell_type": "code",
   "execution_count": null,
   "metadata": {
    "id": "MOZ6OzvVX0Ah"
   },
   "outputs": [],
   "source": [
    "import keras\n",
    "import tensorflow as tf\n",
    "from keras.models import load_model\n",
    "import os\n",
    "import cv2\n",
    "\n",
    "model = tf.keras.models.load_model('/content/drive/My Drive/co/sil/deneme.hdf5')\n",
    "images = []\n",
    "# Test edeceğin datanı preprocess et trainingde verdiğin input haline getir.\n",
    "main_folder = '/content/drive/My Drive/co/htpa_image1/'\n",
    "for f_name in sorted(os.listdir(main_folder)):\n",
    "\n",
    "    #image = Image.open(main_folder + f_name)\n",
    "    image = cv2.imread(main_folder + f_name)\n",
    "    print(main_folder + f_name)\n",
    "    #image_array = asarray(image)\n",
    "    image_array=np.array(image)\n",
    "    images.append(image_array)\n",
    "images = np.array(images)\n",
    "print(images.shape)\n",
    "predicted = model.predict_classes(images)\n",
    "print(predicted)\n",
    "    \n",
    "\n",
    "#error = categorical_crossentropy(ACTUAL CLASS, PREDICTED CLASS)"
   ]
  },
  {
   "cell_type": "markdown",
   "metadata": {
    "id": "_cCH1gtT3JuQ"
   },
   "source": [
    "#Add Noise\n",
    "***`Gürültü ekleme Çıkarma ile detaylı kodlar aşağıda belirtildiği gibidir.`***\n",
    "\n",
    "---\n",
    "\n"
   ]
  },
  {
   "cell_type": "code",
   "execution_count": null,
   "metadata": {
    "colab": {
     "base_uri": "https://localhost:8080/"
    },
    "executionInfo": {
     "elapsed": 17178,
     "status": "ok",
     "timestamp": 1623069530505,
     "user": {
      "displayName": "Rabia Doğan",
      "photoUrl": "",
      "userId": "05617015117333013589"
     },
     "user_tz": -180
    },
    "id": "20hjSFPUoJGZ",
    "outputId": "270960cd-c7fe-4bbe-c6b3-8166174960ec"
   },
   "outputs": [],
   "source": [
    "##Add noise for test set\n",
    "import cv2\n",
    "import os\n",
    "import pandas as pd   \n",
    "from PIL import Image\n",
    "from numpy import asarray  \n",
    "import numpy as np\n",
    "import matplotlib.pyplot as plt\n",
    "src='/content/drive/MyDrive/final_project/test/'\n",
    "def noise_add(img):\n",
    "  mean = 0\n",
    "  var = 10\n",
    "  sigma = var ** 0.5\n",
    "  gaussian = np.random.normal(mean+5, sigma, (32, 32)) #  np.zeros((224, 224), np.float32)\n",
    "\n",
    "  noisy_image = np.zeros(img.shape, np.float32)\n",
    "\n",
    "  if len(img.shape) == 2:\n",
    "      noisy_image = img + gaussian\n",
    "  else:\n",
    "    noisy_image[:, :, 0] = img[:, :, 0] + gaussian\n",
    "    noisy_image[:, :, 1] = img[:, :, 1] + gaussian\n",
    "    noisy_image[:, :, 2] = img[:, :, 2] + gaussian\n",
    "\n",
    "  cv2.normalize(noisy_image, noisy_image, 0, 255, cv2.NORM_MINMAX, dtype=-1)\n",
    "  noisy_image = noisy_image.astype(np.uint8)\n",
    "  return noisy_image\n",
    "\n",
    "filenames_test=os.listdir(src)\n",
    "#print(len(filenames_test))\n",
    "for f_name in filenames_test:\n",
    "    image=cv2.imread(src+f_name)\n",
    "    cv2.imwrite(('/content/drive/MyDrive/final_project/test1/'+f_name),noise_add(image))\n",
    "\n",
    "print(\"true\")"
   ]
  },
  {
   "cell_type": "code",
   "execution_count": null,
   "metadata": {
    "colab": {
     "base_uri": "https://localhost:8080/"
    },
    "executionInfo": {
     "elapsed": 66301,
     "status": "ok",
     "timestamp": 1623066327540,
     "user": {
      "displayName": "Rabia Doğan",
      "photoUrl": "",
      "userId": "05617015117333013589"
     },
     "user_tz": -180
    },
    "id": "aoPMZTxk0JtW",
    "outputId": "b5ff2c96-cf36-486d-f4f0-d2359f0b1d18"
   },
   "outputs": [],
   "source": [
    "##Add noise for train set\n",
    "import cv2\n",
    "import os\n",
    "import pandas as pd   \n",
    "from PIL import Image\n",
    "from numpy import asarray  \n",
    "import numpy as np\n",
    "import matplotlib.pyplot as plt\n",
    "src='/content/drive/MyDrive/final_project/train/'\n",
    "def noise_add(img):\n",
    "  mean = 0\n",
    "  var = 10\n",
    "  sigma = var ** 0.5\n",
    "  gaussian = np.random.normal(mean+5, sigma, (32, 32)) #  np.zeros((224, 224), np.float32)\n",
    "\n",
    "  noisy_image = np.zeros(img.shape, np.float32)\n",
    "\n",
    "  if len(img.shape) == 2:\n",
    "      noisy_image = img + gaussian\n",
    "  else:\n",
    "    noisy_image[:, :, 0] = img[:, :, 0] + gaussian\n",
    "    noisy_image[:, :, 1] = img[:, :, 1] + gaussian\n",
    "    noisy_image[:, :, 2] = img[:, :, 2] + gaussian\n",
    "\n",
    "  cv2.normalize(noisy_image, noisy_image, 0, 255, cv2.NORM_MINMAX, dtype=-1)\n",
    "  noisy_image = noisy_image.astype(np.uint8)\n",
    "  return noisy_image\n",
    "\n",
    "filenames_test=os.listdir(src)\n",
    "#print(len(filenames_test))\n",
    "for f_name in filenames_test:\n",
    "    image=cv2.imread(src+f_name)\n",
    "    cv2.imwrite(('/content/drive/MyDrive/final_project/train1/'+f_name),noise_add(image))\n",
    "\n",
    "print(\"true\")"
   ]
  },
  {
   "cell_type": "code",
   "execution_count": null,
   "metadata": {
    "id": "dWep4aL1ioLt"
   },
   "outputs": [],
   "source": [
    "fig, ax = plt.subplots(nrows=1, ncols=2, figsize=(10, 3.5))\n",
    "# Plotting the original image.\n",
    "ax[0].imshow(img)\n",
    "ax[0].set_title('Original')\n",
    "ax[0].axis('off')\n",
    "\n",
    "# Plotting the Multi Otsu result.\n",
    "ax[1].imshow(noisy_image)\n",
    "ax[1].set_title('noisy')\n",
    "ax[1].axis('off')\n"
   ]
  },
  {
   "cell_type": "code",
   "execution_count": 154,
   "metadata": {
    "id": "8iCsD_mwmgYB"
   },
   "outputs": [
    {
     "data": {
      "text/plain": [
       "'\\nfor f_name in filenames_test:\\n    image=cv2.imread(src+f_name)\\n #   im1=cv2.imread(\"/content/drive/MyDrive/co/htpa_image/gray5.png\")\\n    noisy = random_noise(image, var=sigma**12)\\n\\n# Estimate the average noise standard deviation across color channels.\\n    sigma_est = estimate_sigma(noisy, multichannel=True, average_sigmas=True)\\n    img=denoise_bilateral(noisy, sigma_color=0.1, sigma_spatial=15,multichannel=True)\\n    im = np.uint8(255 *img)\\n    im = cv2.bilateralFilter(im,9,75,75)\\n    \\n    #closing = cv2.morphologyEx(noise_im, cv2.MORPH_OPEN, kernel)\\n\\n    #cv2.imwrite(\\'/content/drive/MyDrive/co/htpa_image1/\\'+f_name,im)\\n    print(\\'Successfully saved\\')\\n'"
      ]
     },
     "execution_count": 154,
     "metadata": {},
     "output_type": "execute_result"
    }
   ],
   "source": [
    "#Denoising for htpa image\n",
    "\n",
    "import numpy as np\n",
    "import matplotlib.pyplot as plt\n",
    "import cv2\n",
    "import os\n",
    "import pandas as pd   \n",
    "from PIL import Image\n",
    "from numpy import asarray  \n",
    "import numpy as np\n",
    "from skimage.restoration import (denoise_tv_chambolle, denoise_bilateral,\n",
    "                                 denoise_wavelet, estimate_sigma)\n",
    "from skimage import data, img_as_float, color\n",
    "from skimage.util import random_noise\n",
    "#htpa_sensor data denoising\n",
    "src='/home/rabikkk/Desktop/final_project/data2/test/last_test78.jpg'\n",
    "new_test='/content/drive/MyDrive/co/htpa_image1/'\n",
    "#original = cv2.imread('/content/drive/MyDrive/co/htpa_image/gray5.png')\n",
    "\n",
    "sigma = 0.3\n",
    "#filenames_test=os.listdir(src)\n",
    "# defining the kernel i.e. Structuring element\n",
    "kernel = np.ones((5,5),np.float32)/25\n",
    "#print(len(filenames_test))\n",
    "image=cv2.imread(src)\n",
    "\n",
    "closing = cv2.morphologyEx(image, cv2.MORPH_CLOSE, kernel)\n",
    "#closing= cv2.cvtColor(closing, cv2.COLOR_BGR2GRAY)\n",
    "# Otsu's thresholding after Gaussian filtering\n",
    "#blur = cv2.GaussianBlur(closing,(5,5),0)\n",
    "#ret3,th2 = cv2.threshold(blur,0,255,cv2.THRESH_BINARY+cv2.THRESH_OTSU)\n",
    "noisy = random_noise(image, var=sigma**12)\n",
    "#dilation = cv2.dilate(image,kernel,iterations = 1)\n",
    "#image = cv2.morphologyEx(image, cv2.MORPH_OPEN, kernel)\n",
    "\n",
    "# Estimate the average noise standard deviation across color channels.\n",
    "sigma_est = estimate_sigma(noisy, multichannel=True, average_sigmas=True)\n",
    "img=denoise_bilateral(noisy, sigma_color=0.1, sigma_spatial=15,multichannel=True)\n",
    "im = np.uint8(255 *img)\n",
    "im = cv2.bilateralFilter(im,9,75,75)\n",
    "'''\n",
    "for f_name in filenames_test:\n",
    "    image=cv2.imread(src+f_name)\n",
    " #   im1=cv2.imread(\"/content/drive/MyDrive/co/htpa_image/gray5.png\")\n",
    "    noisy = random_noise(image, var=sigma**12)\n",
    "\n",
    "# Estimate the average noise standard deviation across color channels.\n",
    "    sigma_est = estimate_sigma(noisy, multichannel=True, average_sigmas=True)\n",
    "    img=denoise_bilateral(noisy, sigma_color=0.1, sigma_spatial=15,multichannel=True)\n",
    "    im = np.uint8(255 *img)\n",
    "    im = cv2.bilateralFilter(im,9,75,75)\n",
    "    \n",
    "    #closing = cv2.morphologyEx(noise_im, cv2.MORPH_OPEN, kernel)\n",
    "\n",
    "    #cv2.imwrite('/content/drive/MyDrive/co/htpa_image1/'+f_name,im)\n",
    "    print('Successfully saved')\n",
    "'''"
   ]
  },
  {
   "cell_type": "code",
   "execution_count": 155,
   "metadata": {},
   "outputs": [
    {
     "data": {
      "text/plain": [
       "(-0.5, 31.5, 31.5, -0.5)"
      ]
     },
     "execution_count": 155,
     "metadata": {},
     "output_type": "execute_result"
    },
    {
     "data": {
      "image/png": "[encoded data removed]",
      "text/plain": [
       "<Figure size 720x252 with 3 Axes>"
      ]
     },
     "metadata": {
      "needs_background": "light"
     },
     "output_type": "display_data"
    }
   ],
   "source": [
    "fig, ax = plt.subplots(nrows=1, ncols=3, figsize=(10, 3.5))\n",
    "# Plotting the original image.\n",
    "ax[0].imshow(image)\n",
    "ax[0].set_title('Original')\n",
    "ax[0].axis('off')\n",
    "\n",
    "# Plotting the Multi Otsu result.\n",
    "ax[1].imshow(im)\n",
    "ax[1].set_title('noisy')\n",
    "ax[1].axis('off')\n",
    "# Plotting the Multi Otsu result.\n",
    "ax[2].imshow(closing)\n",
    "ax[2].set_title('close')\n",
    "ax[2].axis('off')"
   ]
  },
  {
   "cell_type": "code",
   "execution_count": null,
   "metadata": {
    "id": "tg33hHnMfmGy"
   },
   "outputs": [],
   "source": [
    "\n",
    "# Python program to demonstrate erosion and \n",
    "# dilation of images.\n",
    "import cv2\n",
    "import numpy as np\n",
    "from google.colab.patches import cv2_imshow \n",
    "# Reading the input image\n",
    "img = cv2.imread('/content/drive/MyDrive/co/htpa_image1/gray5.png', 0)\n",
    "  \n",
    "# Taking a matrix of size 5 as the kernel\n",
    "kernel = np.ones((5,5), np.uint8)\n",
    "  \n",
    "# The first parameter is the original image,\n",
    "# kernel is the matrix with which image is \n",
    "# convolved and third parameter is the number \n",
    "# of iterations, which will determine how much \n",
    "# you want to erode/dilate a given image. \n",
    "\n",
    "img_dilation = cv2.dilate(img, kernel, iterations=1)\n",
    "img_erosion = cv2.erode(img_dilation, kernel, iterations=1)\n",
    "  \n",
    "cv2_imshow (img)\n",
    "cv2_imshow( img_erosion)\n",
    "cv2_imshow( img_dilation)"
   ]
  }
 ],
 "metadata": {
  "colab": {
   "authorship_tag": "ABX9TyPYRquO/61X44QmLaw0/NeA",
   "collapsed_sections": [],
   "name": "learning.ipynb",
   "provenance": []
  },
  "kernelspec": {
   "display_name": "Python 3",
   "language": "python",
   "name": "python3"
  },
  "language_info": {
   "codemirror_mode": {
    "name": "ipython",
    "version": 3
   },
   "file_extension": ".py",
   "mimetype": "text/x-python",
   "name": "python",
   "nbconvert_exporter": "python",
   "pygments_lexer": "ipython3",
   "version": "3.9.5"
  }
 },
 "nbformat": 4,
 "nbformat_minor": 4
}
